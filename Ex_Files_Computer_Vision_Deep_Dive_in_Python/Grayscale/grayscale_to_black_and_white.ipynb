{
 "cells": [
  {
   "attachments": {},
   "cell_type": "markdown",
   "id": "7881fc0c",
   "metadata": {},
   "source": [
    "## Converting Grayscale to Black and White\n",
    "Sometimes you need to represent color images as absolute black and white. Binary picture files requite much less storage space, as each pixel can be represented with a single bit.\n"
   ]
  },
  {
   "attachments": {},
   "cell_type": "markdown",
   "id": "6b2b1b95",
   "metadata": {},
   "source": [
    "# Imports"
   ]
  },
  {
   "cell_type": "code",
   "execution_count": null,
   "id": "d9dab96a",
   "metadata": {},
   "outputs": [],
   "source": [
    "import numpy as np\n",
    "import matplotlib.pyplot as plt\n",
    "from matplotlib import rcParams"
   ]
  },
  {
   "attachments": {},
   "cell_type": "markdown",
   "id": "654c7c22",
   "metadata": {},
   "source": [
    "# RGBA to PNG"
   ]
  },
  {
   "cell_type": "code",
   "execution_count": null,
   "id": "139595f2",
   "metadata": {},
   "outputs": [],
   "source": [
    "def adapt_image(the_img):\n",
    "    return np.uint8(np.clip(the_img.round(),0,255)) \n",
    "\n",
    "def adapt_PNG(the_PNG):\n",
    "    the_PNG = the_PNG[:,:,:3]      \n",
    "    the_PNG = the_PNG * 255        \n",
    "    the_PNG = adapt_image(the_PNG) \n",
    "    return the_PNG"
   ]
  },
  {
   "attachments": {},
   "cell_type": "markdown",
   "id": "41905e65",
   "metadata": {},
   "source": [
    "# Grayscale to Black&White"
   ]
  },
  {
   "cell_type": "code",
   "execution_count": null,
   "id": "1c09c9b0",
   "metadata": {},
   "outputs": [],
   "source": [
    "def grayscale_to_BW(grayscale_pic, threshold):\n",
    "    rows, cols = np.shape(grayscale_pic)\n",
    "    BW_pic = np.zeros((rows,cols))\n",
    "    for i in range(rows):\n",
    "        for j in range(cols):\n",
    "            BW_pic[i,j] = 0 if grayscale_pic[i,j] <= threshold else 255\n",
    "    return BW_pic"
   ]
  },
  {
   "attachments": {},
   "cell_type": "markdown",
   "id": "aedeef78",
   "metadata": {},
   "source": [
    "# Plot grayscale"
   ]
  },
  {
   "cell_type": "code",
   "execution_count": null,
   "id": "80979b7c-5a98-4074-9c9d-700047d43182",
   "metadata": {},
   "outputs": [],
   "source": [
    "rcParams['figure.figsize'] = 20,8\n",
    "\n",
    "toys = adapt_PNG(plt.imread('images/playspace.png'))\n",
    "toys_wgt = np.dot(toys[...,:3], [0.299,0.587,0.114])\n",
    "plt.axis(\"off\")\n",
    "plt.imshow(toys_wgt,cmap='gray')"
   ]
  },
  {
   "attachments": {},
   "cell_type": "markdown",
   "id": "6891618d",
   "metadata": {},
   "source": [
    "# Plot Black&White"
   ]
  },
  {
   "cell_type": "code",
   "execution_count": null,
   "id": "05506918",
   "metadata": {},
   "outputs": [],
   "source": [
    "# Let's turn each pixel to total black or total white.\n",
    "# We'll use the grayscale_to_BW() function from EC_CV\n",
    "\n",
    "rcParams['figure.figsize'] = 20,8\n",
    "\n",
    "toys_BW = grayscale_to_BW(toys_wgt,127)\n",
    "plt.imshow(toys_BW, cmap = 'gray')"
   ]
  },
  {
   "attachments": {},
   "cell_type": "markdown",
   "id": "ff945263",
   "metadata": {},
   "source": [
    "# Histogram of pixel colors"
   ]
  },
  {
   "cell_type": "code",
   "execution_count": null,
   "id": "bb795bc7-9cad-4181-acc9-bf144c21e8d7",
   "metadata": {},
   "outputs": [],
   "source": [
    "# Let's see a histogram of the grayscale image\n",
    "\n",
    "rcParams['figure.figsize'] = (14,8)\n",
    "plt.hist(toys_wgt.ravel(),256,[0,255])\n",
    "plt.title('Histogram')\n",
    "plt.xticks(np.arange(0, 255, 10))\n",
    "plt.show()"
   ]
  },
  {
   "attachments": {},
   "cell_type": "markdown",
   "id": "7d5305f9",
   "metadata": {},
   "source": [
    "# Compare plots with and without regard of the histogram"
   ]
  },
  {
   "cell_type": "code",
   "execution_count": null,
   "id": "fa2a74ab-04e8-4c05-8541-7c5beafd61f5",
   "metadata": {},
   "outputs": [],
   "source": [
    "# Now let's create a new Black and White image with a threshold of 115\n",
    "rcParams['figure.figsize'] = (20,8)\n",
    "\n",
    "toys_BW2 = grayscale_to_BW(toys_wgt,115)\n",
    "\n",
    "fig, ax = plt.subplots(1,2)\n",
    "ax[0].imshow(toys_BW, cmap='gray')\n",
    "ax[1].imshow(toys_BW2, cmap='gray')"
   ]
  }
 ],
 "metadata": {
  "kernelspec": {
   "display_name": "Python 3",
   "language": "python",
   "name": "python3"
  },
  "language_info": {
   "codemirror_mode": {
    "name": "ipython",
    "version": 3
   },
   "file_extension": ".py",
   "mimetype": "text/x-python",
   "name": "python",
   "nbconvert_exporter": "python",
   "pygments_lexer": "ipython3",
   "version": "3.11.4 (tags/v3.11.4:d2340ef, Jun  7 2023, 05:45:37) [MSC v.1934 64 bit (AMD64)]"
  },
  "vscode": {
   "interpreter": {
    "hash": "bc79bed0333a930cf313cce049ab372a42592ca5c98a7908a8e03647c11d42bc"
   }
  }
 },
 "nbformat": 4,
 "nbformat_minor": 5
}
