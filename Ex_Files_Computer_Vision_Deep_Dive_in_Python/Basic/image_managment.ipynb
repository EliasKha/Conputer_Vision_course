{
 "cells": [
  {
   "attachments": {},
   "cell_type": "markdown",
   "metadata": {},
   "source": [
    "# Imports"
   ]
  },
  {
   "cell_type": "code",
   "execution_count": null,
   "metadata": {},
   "outputs": [],
   "source": [
    "import numpy as np\n",
    "import matplotlib.pyplot as plt"
   ]
  },
  {
   "attachments": {},
   "cell_type": "markdown",
   "metadata": {},
   "source": [
    "# RGBA to PNG"
   ]
  },
  {
   "attachments": {},
   "cell_type": "markdown",
   "metadata": {},
   "source": [
    "To convert an RGBA image array that represents data with floating \n",
    "point numbers from 0 to 1 into the RGB integer format from 0 to 255, \n",
    "we need to make 4 changes:\n",
    "\n",
    "1) Get rid of the A channel\n",
    "2) Multiply by 255\n",
    "3) Round the resulting values\n",
    "4) Ensure values are between 0 and 255\n",
    "5) Convert data to 8-bit integers"
   ]
  },
  {
   "cell_type": "code",
   "execution_count": null,
   "metadata": {},
   "outputs": [],
   "source": [
    "def adapt_image(the_img):\n",
    "    return np.uint8(np.clip(the_img.round(),0,255)) \n",
    "\n",
    "def adapt_PNG(the_PNG):\n",
    "    the_PNG = the_PNG[:,:,:3]      \n",
    "    the_PNG = the_PNG * 255        \n",
    "    the_PNG = adapt_image(the_PNG)\n",
    "    return the_PNG"
   ]
  },
  {
   "attachments": {},
   "cell_type": "markdown",
   "metadata": {},
   "source": [
    "# RGB to Grayscale"
   ]
  },
  {
   "cell_type": "code",
   "execution_count": null,
   "metadata": {},
   "outputs": [],
   "source": [
    "def RGB_to_grayscale(RGB_pic):\n",
    "    rows, cols, temp = np.shape(RGB_pic)\n",
    "    gs = np.zeros((rows,cols))\n",
    "    for i in range(rows):\n",
    "        for j in range(cols):\n",
    "            gs[i,j] = np.average(RGB_pic[i,j])\n",
    "    return gs"
   ]
  },
  {
   "attachments": {},
   "cell_type": "markdown",
   "metadata": {},
   "source": [
    "# Grayscale to Black&White"
   ]
  },
  {
   "cell_type": "code",
   "execution_count": null,
   "metadata": {},
   "outputs": [],
   "source": [
    "def grayscale_to_BW(grayscale_pic, threshold):\n",
    "    rows, cols = np.shape(grayscale_pic)\n",
    "    BW_pic = np.zeros((rows,cols))\n",
    "    for i in range(rows):\n",
    "        for j in range(cols):\n",
    "            BW_pic[i,j] = 0 if grayscale_pic[i,j] <= threshold else 255\n",
    "    return BW_pic"
   ]
  },
  {
   "attachments": {},
   "cell_type": "markdown",
   "metadata": {},
   "source": [
    "# Downscale"
   ]
  },
  {
   "cell_type": "code",
   "execution_count": null,
   "metadata": {},
   "outputs": [],
   "source": [
    "def downscale(pic,n):\n",
    "    \"\"\"\n",
    "    This function downscales an incoming picture by a linear factor of n.\n",
    "    This yields a picture that's n^2 smaller (in area) than the original.\n",
    "    \"\"\"\n",
    "    rows, cols, temp = np.shape(pic)\n",
    "    rows = int(n * int(rows/n)) # make sure rows are divisible by n\n",
    "    cols = int(n * int(cols/n)) # make sure cols are divisible by n\n",
    "    pic = pic[:rows,:cols]\n",
    "    rows = int(rows/n)\n",
    "    cols = int(cols/n)\n",
    "    smaller = np.zeros((rows,cols,3),np.float64)\n",
    "    for i in range(rows):\n",
    "        for j in range(cols):\n",
    "            smaller[i,j,0] = np.average(pic[i*n:i*n+n,j*n:j*n+n,0])  #    Red Channel\n",
    "            smaller[i,j,1] = np.average(pic[i*n:i*n+n,j*n:j*n+n,1])  # Green Channel\n",
    "            smaller[i,j,2] = np.average(pic[i*n:i*n+n,j*n:j*n+n,2])  # Blue Channel\n",
    "    return smaller"
   ]
  },
  {
   "attachments": {},
   "cell_type": "markdown",
   "metadata": {},
   "source": [
    "# Upscale by 2"
   ]
  },
  {
   "cell_type": "code",
   "execution_count": null,
   "metadata": {},
   "outputs": [],
   "source": [
    "def upscale_by_2(pic):\n",
    "    \"\"\"\n",
    "    This function upscales an incoming picture by a linear factor of 2.\n",
    "    This yields a picture that's 4 times larger (in area) than the original.\n",
    "    \"\"\"\n",
    "    rows, cols, temp = np.shape(pic)\n",
    "    last_row = pic[rows-1]\n",
    "    pic = np.insert(pic, -1, last_row, axis=0)\n",
    "    last_col = pic[:,cols-1]\n",
    "    pic = np.insert(pic, -1, last_col, axis=1)+0.0\n",
    "    larger = np.zeros((rows*2,cols*2,3),np.float64)\n",
    "    for i in range(rows):\n",
    "        il = i * 2\n",
    "        for j in range(cols):\n",
    "            jl = j * 2\n",
    "            larger[il,jl] = pic[i,j]  # top-left pixel\n",
    "            \n",
    "            # top-right pixel:\n",
    "            larger[il,jl+1,0] = (pic[i,j,0]+pic[i,j+1,0])/2  #    Red Channel\n",
    "            larger[il,jl+1,1] = (pic[i,j,1]+pic[i,j+1,1])/2  # Green Channel\n",
    "            larger[il,jl+1,2] = (pic[i,j,2]+pic[i,j+1,2])/2  # Blue Channel\n",
    "            \n",
    "            # bottom-left pixel:\n",
    "            larger[il+1,jl,0] = (pic[i,j,0]+pic[i+1,j,0])/2  #    Red Channel\n",
    "            larger[il+1,jl,1] = (pic[i,j,1]+pic[i+1,j,1])/2  # Green Channel\n",
    "            larger[il+1,jl,2] = (pic[i,j,2]+pic[i+1,j,2])/2  # Blue Channel\n",
    "            \n",
    "            # bottom-right pixel:\n",
    "            larger[il+1,jl+1,0] = (pic[i,j,0]+pic[i+1,j+1,0])/2  #    Red Channel\n",
    "            larger[il+1,jl+1,1] = (pic[i,j,1]+pic[i+1,j+1,1])/2  # Green Channel\n",
    "            larger[il+1,jl+1,2] = (pic[i,j,2]+pic[i+1,j+1,2])/2  # Blue Channel\n",
    "\n",
    "    return larger"
   ]
  },
  {
   "attachments": {},
   "cell_type": "markdown",
   "metadata": {},
   "source": [
    "# Get Seam"
   ]
  },
  {
   "cell_type": "code",
   "execution_count": null,
   "metadata": {},
   "outputs": [],
   "source": [
    "def get_seam(dif):\n",
    "    \"\"\"\n",
    "    This function calculates a seam from a squared difference matrix.\n",
    "    The algorithm is similar to Dijkstra's algorithm, with the difference \n",
    "    that it expands all nodes at each vertical level.\n",
    "    \"\"\"\n",
    "    height, width = dif.shape\n",
    "    cost = dif.copy()\n",
    "    seam = np.zeros((height))\n",
    "    \n",
    "    # Calculate the path costs by traversing the difference top down.\n",
    "    # For every cost at level j, add the pixel value to the minimum cost from its \n",
    "    # 2 or 3 neighbors at lejel j-1 (above).\n",
    "    for j in range(height):\n",
    "        if(j == 0):\n",
    "            continue\n",
    "        for i in range(width):\n",
    "            if(i == 0):\n",
    "                cost[j,i] += np.amin((cost[j-1,i],cost[j-1,i+1]))\n",
    "                continue\n",
    "            if(i == width-1):\n",
    "                cost[j,i] += np.amin((cost[j-1,i-1],cost[j-1,i]))\n",
    "                continue\n",
    "            cost[j,i] += np.amin((cost[j-1,i-1],cost[j-1,i],cost[j-1,i+1]))\n",
    "    \n",
    "    # Produce the seam by traversing the cost array, picking the lowest-cost\n",
    "    # elements, following a continuous path.\n",
    "    for j in reversed(range(height)):\n",
    "        if(j == height-1):\n",
    "            seam[j] = np.argmin((cost[j]))\n",
    "            continue\n",
    "        down = int(seam[j+1])\n",
    "        if(down == 0):\n",
    "            seam[j] = (down) + np.argmin((cost[j,down],cost[j,down+1]))\n",
    "            continue\n",
    "        if(down == width-1):\n",
    "            seam[j] = (down-1) + np.argmin((cost[j,down-1],cost[j,down]))\n",
    "            continue\n",
    "        seam[j] = (down-1) + np.argmin((cost[j,down-1],cost[j,down],cost[j,down+1]))\n",
    "    return seam "
   ]
  }
 ],
 "metadata": {
  "kernelspec": {
   "display_name": "Python 3",
   "language": "python",
   "name": "python3"
  },
  "language_info": {
   "name": "python",
   "version": "3.11.4 (tags/v3.11.4:d2340ef, Jun  7 2023, 05:45:37) [MSC v.1934 64 bit (AMD64)]"
  },
  "orig_nbformat": 4,
  "vscode": {
   "interpreter": {
    "hash": "bc79bed0333a930cf313cce049ab372a42592ca5c98a7908a8e03647c11d42bc"
   }
  }
 },
 "nbformat": 4,
 "nbformat_minor": 2
}
